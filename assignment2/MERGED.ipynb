{
 "cells": [
  {
   "attachments": {},
   "cell_type": "markdown",
   "metadata": {},
   "source": [
    "# Introduction\n",
    "-----------------------\n",
    "We have taken the original hw2.py file and transformed it into an IPython notebook (ipynb), allowing us to develop and explain the code in a more interactive and accessible format. We have ensured that the notebook retains the same functionality as the original Python file, so that the code can still be run and tested as before.\n",
    "\n",
    "To start with, we will define the libraries required in the rest of the code:"
   ]
  },
  {
   "cell_type": "code",
   "execution_count": 11,
   "metadata": {},
   "outputs": [],
   "source": [
    "import os\n",
    "import matplotlib.pyplot as plt\n",
    "import numpy as np\n",
    "import collections\n",
    "import doctest"
   ]
  },
  {
   "attachments": {},
   "cell_type": "markdown",
   "metadata": {},
   "source": [
    "# Exercise 1\n",
    "-----------------------\n",
    "##### 1.1. Define compute_total_cost function"
   ]
  },
  {
   "cell_type": "code",
   "execution_count": 2,
   "metadata": {},
   "outputs": [],
   "source": [
    "def compute_total_cost(solution, distances):\n",
    "    \"\"\"Compute the total cost of a given solution\n",
    "\n",
    "    Examples\n",
    "    --------\n",
    "    >>> solution = np.array([0, 1, 2, 3, 4, 5])\n",
    "    >>> distances = np.array([\n",
    "    ...    [0, 5, 3, 4, 2, 3],\n",
    "    ...    [5, 0, 2, 8, 3, 9],\n",
    "    ...    [3, 2, 0, 2, 5, 8],\n",
    "    ...    [4, 8, 2, 0, 6, 9],\n",
    "    ...    [2, 3, 5, 6, 0, 1],\n",
    "    ...    [3, 9, 8, 9, 1, 0],\n",
    "    ... ], dtype=float)\n",
    "    >>> compute_total_cost(solution, distances)\n",
    "    19.0\n",
    "\n",
    "    Parameters\n",
    "    ----------\n",
    "    solution : ndarray\n",
    "        1D array of shape (n_cities,) with `int` dtype representing\n",
    "        the solution whose length is to be computed.\n",
    "    distances : ndarray\n",
    "        2D array of shape (n_cities, n_cities) with `float` dtype\n",
    "        representing the distance matrix.\n",
    "\n",
    "    Returns\n",
    "    -------\n",
    "    length : float\n",
    "    \"\"\"\n",
    "    # Question 1\n",
    "    n_cities = solution.shape[0]\n",
    "    cost = 0.0\n",
    "    for i in range(n_cities):\n",
    "        j = (i + 1) % n_cities\n",
    "        cost += distances[solution[i], solution[j]]\n",
    "    return cost"
   ]
  },
  {
   "attachments": {},
   "cell_type": "markdown",
   "metadata": {},
   "source": [
    "##### 1.2.Test compute_total_cost function"
   ]
  },
  {
   "cell_type": "code",
   "execution_count": 3,
   "metadata": {},
   "outputs": [
    {
     "data": {
      "text/plain": [
       "19.0"
      ]
     },
     "execution_count": 3,
     "metadata": {},
     "output_type": "execute_result"
    }
   ],
   "source": [
    "#test\n",
    "solution = np.array([0, 1, 2, 3, 4, 5])\n",
    "distances = np.array([[0, 5, 3, 4, 2, 3],\n",
    "                      [5, 0, 2, 8, 3, 9],\n",
    "                      [3, 2, 0, 2, 5, 8],\n",
    "                      [4, 8, 2, 0, 6, 9],\n",
    "                      [2, 3, 5, 6, 0, 1],\n",
    "                      [3, 9, 8, 9, 1, 0],\n",
    "                      ], dtype=float)\n",
    "compute_total_cost(solution, distances)"
   ]
  },
  {
   "attachments": {},
   "cell_type": "markdown",
   "metadata": {},
   "source": [
    "# Exercise 2\n",
    "-----------------------\n",
    "##### 2.1. Define run_greedy_heuristic function"
   ]
  },
  {
   "cell_type": "code",
   "execution_count": 4,
   "metadata": {},
   "outputs": [],
   "source": [
    "\n",
    "def run_greedy_heuristic(distances):\n",
    "    \"\"\"Run a greedy heuristic for TSP\n",
    "\n",
    "    This runs a greedy heuristic for TSP and return a feasible solution.\n",
    "    This starts at city 0 and creates a soltuion by finding the shortest\n",
    "    cities greedily.\n",
    "\n",
    "    Examples\n",
    "    --------\n",
    "    >>> distances = np.array([\n",
    "    ...    [0, 5, 3, 4, 2, 3],\n",
    "    ...    [5, 0, 2, 8, 3, 9],\n",
    "    ...    [3, 2, 0, 2, 5, 8],\n",
    "    ...    [4, 8, 2, 0, 6, 9],\n",
    "    ...    [2, 3, 5, 6, 0, 1],\n",
    "    ...    [3, 9, 8, 9, 1, 0],\n",
    "    ... ], dtype=float)\n",
    "    >>> run_greedy_heuristic(distances)\n",
    "    array([0, 4, 5, 2, 1, 3])\n",
    "    >>> compute_total_cost(run_greedy_heuristic(distances), distances)\n",
    "    25.0\n",
    "\n",
    "    Parameters\n",
    "    ----------\n",
    "    distances : ndarray\n",
    "        2D array of shape (n_cities, n_cities) with `float` dtype\n",
    "        representing the distance matrix.\n",
    "\n",
    "    Returns\n",
    "    -------\n",
    "    solution : ndarray\n",
    "        1D array of shape (n_cities,) with `int` dtype representing\n",
    "        the solution obtained by the greedy heuristic.\n",
    "    \"\"\"\n",
    "\n",
    "    n = distances.shape[0]\n",
    "\n",
    "    # Start at city 0\n",
    "    c = 0\n",
    "    S = set(range(1, n))\n",
    "    x = np.array([c], dtype=int)\n",
    "\n",
    "    # Find the closest city to c and add it to the solution\n",
    "    for i in range(n-1):\n",
    "        closest_city = min(S, key=lambda j: distances[c][j])\n",
    "        S.remove(closest_city)\n",
    "        x = np.append(x, closest_city)\n",
    "        c = closest_city\n",
    "\n",
    "    return x"
   ]
  },
  {
   "attachments": {},
   "cell_type": "markdown",
   "metadata": {},
   "source": [
    "##### 2.2. Test run_greedy_heuristic function"
   ]
  },
  {
   "cell_type": "code",
   "execution_count": 5,
   "metadata": {},
   "outputs": [
    {
     "data": {
      "text/plain": [
       "array([0, 4, 5, 2, 1, 3])"
      ]
     },
     "execution_count": 5,
     "metadata": {},
     "output_type": "execute_result"
    }
   ],
   "source": [
    "distances = np.array([\n",
    "    [0, 5, 3, 4, 2, 3],\n",
    "    [5, 0, 2, 8, 3, 9],\n",
    "    [3, 2, 0, 2, 5, 8],\n",
    "    [4, 8, 2, 0, 6, 9],\n",
    "    [2, 3, 5, 6, 0, 1],\n",
    "    [3, 9, 8, 9, 1, 0],], dtype=float)\n",
    "\n",
    "run_greedy_heuristic(distances)"
   ]
  },
  {
   "attachments": {},
   "cell_type": "markdown",
   "metadata": {},
   "source": [
    "# Exercise 3\n",
    "-----------------------\n",
    "##### 3.1. Define sample_two_opt function"
   ]
  },
  {
   "cell_type": "code",
   "execution_count": 17,
   "metadata": {},
   "outputs": [],
   "source": [
    "def sample_two_opt(solution):\n",
    "    \"\"\"Return a neighbour of a given solution based on two-opt\n",
    "\n",
    "    This returns a neighbouring solution.\n",
    "\n",
    "    Examples\n",
    "    --------\n",
    "    >>> solution = np.array([0, 1, 2, 3])\n",
    "    >>> sample_two_opt(solution)  # doctest: +SKIP\n",
    "    array([0, 2, 1, 3])\n",
    "\n",
    "    Parameters\n",
    "    ----------\n",
    "    solution : ndarray\n",
    "        1D array of shape (n_cities,) with `int` dtype representing\n",
    "        the current solution.\n",
    "\n",
    "    Returns\n",
    "    -------\n",
    "    new_solution : ndarray\n",
    "        1D array of shape (n_cities,) with `int` dtype representing\n",
    "        the sampled solution.\n",
    "    \"\"\"\n",
    "\n",
    "    n_cities = len(solution)\n",
    "    # Select two random indices i and j, with i < j\n",
    "    i = np.random.randint(n_cities-1)\n",
    "    j = np.random.randint(i+1, n_cities)\n",
    "\n",
    "    # Create a new solution by reversing the order of cities between i and j\n",
    "    new_solution = np.concatenate((solution[:i], solution[i:j+1][::-1], solution[j+1:]))\n",
    "    # Compute the length of the new tour\n",
    "            \n",
    "    return new_solution"
   ]
  },
  {
   "attachments": {},
   "cell_type": "markdown",
   "metadata": {},
   "source": [
    "##### 3.2. Test sample_two_opt function"
   ]
  },
  {
   "cell_type": "code",
   "execution_count": 18,
   "metadata": {},
   "outputs": [
    {
     "name": "stdout",
     "output_type": "stream",
     "text": [
      "[3 2 1 0]\n"
     ]
    }
   ],
   "source": [
    "solution = np.array([0, 1, 2, 3])\n",
    "print(sample_two_opt(solution))"
   ]
  },
  {
   "attachments": {},
   "cell_type": "markdown",
   "metadata": {},
   "source": [
    "# Exercise 4\n",
    "-----------------------\n",
    "##### 4.1. Define run_simulated_annealing function"
   ]
  },
  {
   "cell_type": "code",
   "execution_count": 19,
   "metadata": {},
   "outputs": [],
   "source": [
    "# Load the numpy array from the 'distances.npy' file\n",
    "distances = np.load('distances.npy')\n",
    "\n",
    "# Define a namedtuple called SolverResult\n",
    "SolverResult = collections.namedtuple(\n",
    "    \"SolverResult\", \"objective solution objective_list\"\n",
    ")\n",
    "\n",
    "# Define a function to compute the temperature for a given iteration\n",
    "def temperature(current_iteration):\n",
    "    return(1/(0.1*current_iteration+1))\n",
    "\n",
    "# Define a function to run simulated annealing\n",
    "def run_simulated_annealing(\n",
    "    initial_solution,\n",
    "    objective,\n",
    "    sample,\n",
    "    n_epochs,\n",
    "    temperature,\n",
    "):\n",
    "    \"\"\"\n",
    "    Run simulated annealing\n",
    "\n",
    "    Parameters\n",
    "    ----------\n",
    "    initial_solution : ndarray\n",
    "        1D array of shape (n_cities,) with `int` dtype representing\n",
    "        the initial solution.\n",
    "    objective : callable\n",
    "        Objective function of the following signature:\n",
    "        (solution: ndarray of shape (n_cities,), distances: ndarray of shape (n_cities, n_cities)) -> float.\n",
    "    sample : callable\n",
    "        A function to sample a neighbouring solution.\n",
    "        This should have the following signature:\n",
    "        (solution: ndarray of shape (n_cities,))\n",
    "        -> ndarray of shape (n_cities,).\n",
    "    n_epochs : int\n",
    "        Number of epochs\n",
    "    temperature : callable\n",
    "        A function to compute the temperature.\n",
    "        This should have the following signature:\n",
    "        (epoch: int) -> float.\n",
    "\n",
    "    Returns\n",
    "    -------\n",
    "    best_solution : ndarray\n",
    "        1D array of shape (n_cities,) with `int` dtype representing\n",
    "        the best solution found.\n",
    "    best_objective : float\n",
    "        The objective value of the best solution found.\n",
    "    objective_list : list of float\n",
    "        The objective values of the iterates\n",
    "    \"\"\"\n",
    "    \n",
    "    # Initialize variables to store the best solution, its objective value and the objective values of the iterates.\n",
    "    best_solution = None  \n",
    "    best_objective = np.inf  \n",
    "    objective_list = []  \n",
    "\n",
    "    # Set the initial solution and its objective value as the best solution and its objective value.\n",
    "    best_solution = initial_solution\n",
    "    best_objective = objective(best_solution, distances)\n",
    "\n",
    "    # Loop over the number of epochs\n",
    "    for epoch in range(n_epochs):\n",
    "        # Sample a neighbouring solution\n",
    "        new_solution = sample(best_solution)\n",
    "        # Compute the objective value of the new solution\n",
    "        new_energy = objective(new_solution, distances)\n",
    "\n",
    "        # Compute the difference in energy between the current and the new solution\n",
    "        energy_difference = new_energy - best_objective\n",
    "\n",
    "        # If the new solution has a lower objective value, accept it as the new best solution.\n",
    "        # If the new solution has a higher objective value, accept it with a certain probability based on the temperature.\n",
    "        if energy_difference < 0 or np.random.uniform() < np.exp(-energy_difference / temperature(epoch)):\n",
    "            best_solution = new_solution\n",
    "            best_objective = new_energy\n",
    "\n",
    "        # Add the objective value of the best solution to the objective list.\n",
    "        objective_list.append(best_objective)\n",
    "\n",
    "    # Return the best solution, its objective value and the objective values of the iterates.\n",
    "    return best_solution, best_objective, objective_list\n",
    "\n"
   ]
  },
  {
   "attachments": {},
   "cell_type": "markdown",
   "metadata": {},
   "source": [
    "##### 4.2. Set up run_simulated_annealing function within main()"
   ]
  },
  {
   "cell_type": "code",
   "execution_count": 21,
   "metadata": {},
   "outputs": [],
   "source": [
    "def main():\n",
    "    \"\"\"Run the main routine of this script\"\"\"\n",
    "    distance_matrix_file_path = \"distances.npy\"\n",
    "\n",
    "    with open(distance_matrix_file_path, \"rb\") as f:\n",
    "        distances = np.load(f)\n",
    "\n",
    "    # Run the greedy heuristic and obtain a solution.\n",
    "    initial_solution = run_greedy_heuristic(distances)\n",
    "\n",
    "    # Test the output.\n",
    "    shape = (len(distances),)\n",
    "\n",
    "    np.testing.assert_equal(type(initial_solution), np.ndarray)\n",
    "    np.testing.assert_equal(initial_solution.shape, shape)\n",
    "\n",
    "    # Test output of `sample_two_opt` as well.\n",
    "\n",
    "    sampled_solution = sample_two_opt(initial_solution)\n",
    "\n",
    "    np.testing.assert_equal(type(sampled_solution), np.ndarray)\n",
    "    np.testing.assert_equal(sampled_solution.shape, shape)\n",
    "\n",
    "    # Question 4\n",
    "    evolutions_matrix=[]\n",
    "    number_of_iterations=20\n",
    "    \n",
    "    for x in range(number_of_iterations):\n",
    "\n",
    "        results=run_simulated_annealing(\n",
    "            initial_solution,\n",
    "            compute_total_cost,\n",
    "            sample_two_opt,\n",
    "            1000,\n",
    "            temperature,\n",
    "        )\n",
    "\n",
    "        best_objective_evolution=results[2]\n",
    "        evolutions_matrix.append(best_objective_evolution)\n",
    "\n",
    "    # Create a figure and axis object\n",
    "    fig, ax = plt.subplots(figsize=(15, 3))\n",
    "\n",
    "    # Plot each sublist as a line with a different color\n",
    "    for sublist in evolutions_matrix:\n",
    "        ax.plot(sublist,linewidth=0.3, color='turquoise')\n",
    "\n",
    "    # Set the title and labels for the chart\n",
    "    ax.set_title('Objective value evolution for 20 simulated annealing simulations')\n",
    "    ax.set_xlabel('Iteration')\n",
    "    ax.set_ylabel('Objective')\n",
    "    ax.set_xlim(left=-10)\n",
    "    # Display the chart\n",
    "    plt.show()"
   ]
  },
  {
   "attachments": {},
   "cell_type": "markdown",
   "metadata": {},
   "source": [
    "##### 4.3. Excectue simulated annealing (main) and validation checks"
   ]
  },
  {
   "cell_type": "code",
   "execution_count": 23,
   "metadata": {},
   "outputs": [
    {
     "data": {
      "image/png": "[encoded data removed]",
      "text/plain": [
       "<Figure size 1500x300 with 1 Axes>"
      ]
     },
     "metadata": {},
     "output_type": "display_data"
    }
   ],
   "source": [
    "# Import the doctest module for running tests\n",
    "import doctest\n",
    "\n",
    "# Run all doctests in the current module\n",
    "n_failures, _ = doctest.testmod(optionflags=doctest.ELLIPSIS + doctest.NORMALIZE_WHITESPACE)\n",
    "# If any tests failed, raise a ValueError\n",
    "if n_failures > 0:\n",
    "    raise ValueError(f\"Failed {n_failures} tests\")\n",
    "\n",
    "# If no tests failed, run the main function (presumably defined elsewhere)\n",
    "main()\n"
   ]
  },
  {
   "attachments": {},
   "cell_type": "markdown",
   "metadata": {},
   "source": [
    "# Exercise 5\n",
    "-----------------------"
   ]
  },
  {
   "attachments": {},
   "cell_type": "markdown",
   "metadata": {},
   "source": [
    "If we define the temperature function as temperature(k): return 100/(0.1*k-1), the temperature will decrease more slowly with each iteration compared to temperature(k): return 1/(0.1*k-1). This is because the numerator of the first function is much larger than the second function, and so the temperature will start at a much higher value and decrease more slowly. This slow decrease in temperature may cause the algorithm to converge to a local minimum or get stuck in a plateau, as it will continue to accept worse solutions with a higher probability for longer.\n",
    "\n",
    "On the other hand, if we define the temperature function as temperature(k): return 1/(0.1*k-1), the temperature will decrease more quickly with each iteration compared to the first function. This is because the numerator of the second function is much smaller than the first function, and so the temperature will start at a much lower value and decrease more quickly. This rapid decrease in temperature may cause the algorithm to converge to a global minimum more quickly, as it will reduce the probability of accepting worse solutions sooner."
   ]
  },
  {
   "attachments": {},
   "cell_type": "markdown",
   "metadata": {},
   "source": [
    "# Exercise 6\n",
    "-----------------------"
   ]
  },
  {
   "cell_type": "code",
   "execution_count": null,
   "metadata": {},
   "outputs": [],
   "source": []
  }
 ],
 "metadata": {
  "kernelspec": {
   "display_name": "Xpress",
   "language": "python",
   "name": "python3"
  },
  "language_info": {
   "codemirror_mode": {
    "name": "ipython",
    "version": 3
   },
   "file_extension": ".py",
   "mimetype": "text/x-python",
   "name": "python",
   "nbconvert_exporter": "python",
   "pygments_lexer": "ipython3",
   "version": "3.9.16"
  },
  "orig_nbformat": 4,
  "vscode": {
   "interpreter": {
    "hash": "cccdf50b84ffb2bebb1c2c86403845785bc83706824bcfff4ea1c9e2554ab21c"
   }
  }
 },
 "nbformat": 4,
 "nbformat_minor": 2
}
