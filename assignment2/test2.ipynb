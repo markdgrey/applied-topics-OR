{
 "cells": [
  {
   "attachments": {},
   "cell_type": "markdown",
   "metadata": {},
   "source": [
    "\n",
    "Exercise 1 Simulated Annealing for TSP\n",
    "\n"
   ]
  },
  {
   "attachments": {},
   "cell_type": "markdown",
   "metadata": {},
   "source": [
    "In the TSP, the goal is to find the shortest possible route that visits each city exactly once and returns to the starting city\n",
    "\n"
   ]
  },
  {
   "attachments": {},
   "cell_type": "markdown",
   "metadata": {},
   "source": [
    "Imports"
   ]
  },
  {
   "cell_type": "code",
   "execution_count": 29,
   "metadata": {},
   "outputs": [],
   "source": [
    "import os\n",
    "\n",
    "#import matplotlib.pyplot as plt\n",
    "\n",
    "import numpy as np\n",
    "import matplotlib as plt"
   ]
  },
  {
   "attachments": {},
   "cell_type": "markdown",
   "metadata": {},
   "source": [
    "1. Implement compute_total_cost in hw2.py which takes a solution x and a distance\n",
    "matrix and computes the total cost of the route corresponding to x. (1 point)\n"
   ]
  },
  {
   "cell_type": "code",
   "execution_count": 35,
   "metadata": {},
   "outputs": [
    {
     "data": {
      "text/plain": [
       "'\\n\\n    # Question 1\\n    n_cities = solution.shape[0]\\n    cost = 0.0\\n    for i in range(n_cities):\\n        j = (i + 1) % n_cities\\n        cost += distances[solution[i], solution[j]]\\n    return cost\\n'"
      ]
     },
     "execution_count": 35,
     "metadata": {},
     "output_type": "execute_result"
    }
   ],
   "source": [
    "\n",
    "def compute_total_cost(solution, distances):\n",
    "    \"\"\"Compute the total cost of a given solution\n",
    "\n",
    "    Examples\n",
    "    --------\n",
    "    >>> solution = np.array([0, 1, 2, 3, 4, 5])\n",
    "    >>> distances = np.array([\n",
    "    ...    [0, 5, 3, 4, 2, 3],\n",
    "    ...    [5, 0, 2, 8, 3, 9],\n",
    "    ...    [3, 2, 0, 2, 5, 8],\n",
    "    ...    [4, 8, 2, 0, 6, 9],\n",
    "    ...    [2, 3, 5, 6, 0, 1],\n",
    "    ...    [3, 9, 8, 9, 1, 0],\n",
    "    ... ], dtype=float)\n",
    "    >>> compute_total_cost(solution, distances)\n",
    "    19.0\n",
    "\n",
    "    Parameters\n",
    "    ----------\n",
    "    solution : ndarray\n",
    "        1D array of shape (n_cities,) with `int` dtype representing\n",
    "        the solution whose length is to be computed.\n",
    "    distances : ndarray\n",
    "        2D array of shape (n_cities, n_cities) with `float` dtype\n",
    "        representing the distance matrix.\n",
    "\n",
    "    Returns\n",
    "    -------\n",
    "    length : float\n",
    "    \"\"\"\n",
    "    # Question 1\n",
    "    # Initialise the total cost to zero.\n",
    "    total_cost = 0.0\n",
    "\n",
    "    # Compute the total cost of the solution by summing the distances between consecutive cities in the solution.\n",
    "    for i in range(len(solution)):\n",
    "        total_cost += distances[solution[i], solution[(i+1)%len(solution)]]\n",
    "\n",
    "    return total_cost\n",
    "\n",
    "\"\"\"\n",
    "\n",
    "    # Question 1\n",
    "    n_cities = solution.shape[0]\n",
    "    cost = 0.0\n",
    "    for i in range(n_cities):\n",
    "        j = (i + 1) % n_cities\n",
    "        cost += distances[solution[i], solution[j]]\n",
    "    return cost\n",
    "\"\"\""
   ]
  },
  {
   "cell_type": "code",
   "execution_count": 36,
   "metadata": {},
   "outputs": [
    {
     "data": {
      "text/plain": [
       "19.0"
      ]
     },
     "execution_count": 36,
     "metadata": {},
     "output_type": "execute_result"
    }
   ],
   "source": [
    "#test\n",
    "solution = np.array([0, 1, 2, 3, 4, 5])\n",
    "distances = np.array([[0, 5, 3, 4, 2, 3],\n",
    "                      [5, 0, 2, 8, 3, 9],\n",
    "                      [3, 2, 0, 2, 5, 8],\n",
    "                      [4, 8, 2, 0, 6, 9],\n",
    "                      [2, 3, 5, 6, 0, 1],\n",
    "                      [3, 9, 8, 9, 1, 0],\n",
    "                      ], dtype=float)\n",
    "compute_total_cost(solution, distances)"
   ]
  },
  {
   "attachments": {},
   "cell_type": "markdown",
   "metadata": {},
   "source": [
    "\n",
    "2. Implement run_greedy_heuristic in hw2.py which takes a distance matrix and runs\n",
    "Algorithm 1."
   ]
  },
  {
   "attachments": {},
   "cell_type": "markdown",
   "metadata": {},
   "source": [
    "- First, the n variable is set to the number of cities in the problem, which is determined by the size of the distances matrix.\n",
    "\n",
    "- Next, the c variable is set to 0, which is the starting city for the TSP. The S variable is set to a set containing all cities except the starting city. The x variable is set to an array containing only the starting city.\n",
    "\n",
    "- A for loop is used to iterate through each remaining city in the TSP.\n",
    "\n",
    "- Within the for loop, the closest_city variable is set to the city in S that is closest to the current city c. This is accomplished using the argmin function from NumPy to find the index of the smallest value in the row of distances corresponding to the current city, and then using this index to look up the corresponding city in S.\n",
    "\n",
    "- The closest_city is then removed from S, and added to the end of the x array using the append method.\n",
    "\n",
    "- Finally, the closest_city becomes the new c, and the for loop continues to the next city.\n",
    "\n",
    "- Once all cities have been visited, the x array containing the tour is returned as the solution."
   ]
  },
  {
   "cell_type": "code",
   "execution_count": null,
   "metadata": {},
   "outputs": [],
   "source": []
  },
  {
   "cell_type": "code",
   "execution_count": 7,
   "metadata": {},
   "outputs": [],
   "source": [
    "\n",
    "def run_greedy_heuristic(distances):\n",
    "    \"\"\"Run a greedy heuristic for TSP\n",
    "\n",
    "    This runs a greedy heuristic for TSP and return a feasible solution.\n",
    "    This starts at city 0 and creates a soltuion by finding the shortest\n",
    "    cities greedily.\n",
    "\n",
    "    Examples\n",
    "    --------\n",
    "    >>> distances = np.array([\n",
    "    ...    [0, 5, 3, 4, 2, 3],\n",
    "    ...    [5, 0, 2, 8, 3, 9],\n",
    "    ...    [3, 2, 0, 2, 5, 8],\n",
    "    ...    [4, 8, 2, 0, 6, 9],\n",
    "    ...    [2, 3, 5, 6, 0, 1],\n",
    "    ...    [3, 9, 8, 9, 1, 0],\n",
    "    ... ], dtype=float)\n",
    "    >>> run_greedy_heuristic(distances)\n",
    "    array([0, 4, 5, 2, 1, 3])\n",
    "    >>> compute_total_cost(run_greedy_heuristic(distances), distances)\n",
    "    25.0\n",
    "\n",
    "    Parameters\n",
    "    ----------\n",
    "    distances : ndarray\n",
    "        2D array of shape (n_cities, n_cities) with `float` dtype\n",
    "        representing the distance matrix.\n",
    "\n",
    "    Returns\n",
    "    -------\n",
    "    solution : ndarray\n",
    "        1D array of shape (n_cities,) with `int` dtype representing\n",
    "        the solution obtained by the greedy heuristic.\n",
    "    \"\"\"\n",
    "\n",
    "\n",
    "\n",
    "#    c = 0\n",
    "#    x = c.sort()\n",
    "\n",
    "    n = distances.shape[0]\n",
    "\n",
    "    # Start at city 0\n",
    "    c = 0\n",
    "    S = set(range(1, n))\n",
    "    x = np.array([c], dtype=int)\n",
    "\n",
    "    # Find the closest city to c and add it to the solution\n",
    "    for i in range(n-1):\n",
    "        closest_city = min(S, key=lambda j: distances[c][j])\n",
    "        S.remove(closest_city)\n",
    "        x = np.append(x, closest_city)\n",
    "        c = closest_city\n",
    "\n",
    "    return x"
   ]
  },
  {
   "cell_type": "code",
   "execution_count": 123,
   "metadata": {},
   "outputs": [
    {
     "data": {
      "text/plain": [
       "array([0, 4, 5, 2, 1, 3])"
      ]
     },
     "execution_count": 123,
     "metadata": {},
     "output_type": "execute_result"
    }
   ],
   "source": [
    "    \n",
    "distances = np.array([\n",
    "    [0, 5, 3, 4, 2, 3],\n",
    "    [5, 0, 2, 8, 3, 9],\n",
    "    [3, 2, 0, 2, 5, 8],\n",
    "    [4, 8, 2, 0, 6, 9],\n",
    "    [2, 3, 5, 6, 0, 1],\n",
    "    [3, 9, 8, 9, 1, 0],], dtype=float)\n",
    "\n",
    "\n",
    "\n",
    "run_greedy_heuristic(distances)\n"
   ]
  },
  {
   "cell_type": "code",
   "execution_count": 122,
   "metadata": {},
   "outputs": [
    {
     "data": {
      "text/plain": [
       "array([0, 2, 1, 3])"
      ]
     },
     "execution_count": 122,
     "metadata": {},
     "output_type": "execute_result"
    }
   ],
   "source": []
  },
  {
   "cell_type": "code",
   "execution_count": 124,
   "metadata": {},
   "outputs": [
    {
     "data": {
      "text/plain": [
       "25.0"
      ]
     },
     "execution_count": 124,
     "metadata": {},
     "output_type": "execute_result"
    }
   ],
   "source": [
    "compute_total_cost(run_greedy_heuristic(distances), distances)"
   ]
  },
  {
   "cell_type": "code",
   "execution_count": 13,
   "metadata": {},
   "outputs": [
    {
     "data": {
      "text/plain": [
       "'\\n    run_greedy_heuristic(distances)\\n    array([0, 4, 5, 2, 1, 3])\\n    compute_total_cost(run_greedy_heuristic(distances), distances)\\n    #25.0\\n\\n'"
      ]
     },
     "execution_count": 13,
     "metadata": {},
     "output_type": "execute_result"
    }
   ],
   "source": [
    "\n",
    "\n",
    "'''\n",
    "    run_greedy_heuristic(distances)\n",
    "    array([0, 4, 5, 2, 1, 3])\n",
    "    compute_total_cost(run_greedy_heuristic(distances), distances)\n",
    "    #25.0\n",
    "\n",
    "'''"
   ]
  },
  {
   "cell_type": "code",
   "execution_count": null,
   "metadata": {},
   "outputs": [],
   "source": []
  },
  {
   "attachments": {},
   "cell_type": "markdown",
   "metadata": {},
   "source": [
    "3. Implement sample_two_opt in hw2.py which takes a solution x and samples a solution\n",
    "uniformly from N (x), where N (x) is the set of neighbouring solutions obtained\n",
    "by applying two-opt to x (see Algorithm 2).1 (1 point)"
   ]
  },
  {
   "cell_type": "code",
   "execution_count": 106,
   "metadata": {},
   "outputs": [],
   "source": [
    "def sample_two_opt(solution):\n",
    "    \"\"\"Return a neighbour of a given solution based on two-opt\n",
    "\n",
    "    This returns a neighbouring solution.\n",
    "\n",
    "    Examples\n",
    "    --------\n",
    "    >>> solution = np.array([0, 1, 2, 3])\n",
    "    >>> sample_two_opt(solution)  \n",
    "    array([0, 2, 1, 3])\n",
    "\n",
    "    Parameters\n",
    "    ----------\n",
    "    solution : ndarray\n",
    "        1D array of shape (n_cities,) with `int` dtype representing\n",
    "        the current solution.\n",
    "\n",
    "    Returns\n",
    "    -------\n",
    "    new_solution : ndarray\n",
    "        1D array of shape (n_cities,) with `int` dtype representing\n",
    "        the sampled solution.\n",
    "    \"\"\"\n",
    "\n",
    "    \"\"\"\n",
    "    n_cities = len(solution)\n",
    "    i, j = np.random.choice(n_cities, size=2, replace=False)\n",
    "    i, j = min(i, j), max(i, j)\n",
    "    new_solution = np.concatenate((solution[:i], solution[i:j+1][::-1], solution[j+1:]))\n",
    "    return new_solution\n",
    "    \"\"\"\n",
    "\n",
    "    n_cities = len(solution)\n",
    "    i, j = np.random.choice(n_cities, size=2, replace=False)\n",
    "    i, j = min(i, j), max(i, j)\n",
    "    new_solution = np.concatenate((solution[:i], solution[i:j+1][::-1], solution[j+1:]))\n",
    "    return new_solution\n"
   ]
  },
  {
   "cell_type": "code",
   "execution_count": 113,
   "metadata": {},
   "outputs": [
    {
     "data": {
      "text/plain": [
       "array([0, 3, 2, 1])"
      ]
     },
     "execution_count": 113,
     "metadata": {},
     "output_type": "execute_result"
    }
   ],
   "source": [
    "solution = np.array([0, 1, 2, 3])\n",
    "sample_two_opt(solution) "
   ]
  },
  {
   "cell_type": "code",
   "execution_count": null,
   "metadata": {},
   "outputs": [],
   "source": []
  },
  {
   "attachments": {},
   "cell_type": "markdown",
   "metadata": {},
   "source": [
    "4. Implement run_simulated_annealing in hw2.py and run simulated annealing for 20\n",
    "times using the distance matrix provided in distances.npy. Plot the objective values\n",
    "of the iterates (see Figure 1 for the format of the plot). Make sure the plot is readable\n",
    "(e.g. put axis labels). (3 points)"
   ]
  },
  {
   "cell_type": "code",
   "execution_count": 125,
   "metadata": {},
   "outputs": [],
   "source": [
    "import matplotlib.pyplot as plt\n",
    "\n",
    "def run_simulated_annealing(\n",
    "    initial_solution,\n",
    "    objective,\n",
    "    sample,\n",
    "    n_epochs,\n",
    "    temperature,\n",
    "):\n",
    "    \"\"\"Run simulated annealing\n",
    "\n",
    "    Parameters\n",
    "    ----------\n",
    "    solution : ndarray\n",
    "        1D array of shape (n_cities,) with `int` dtype representing\n",
    "        the initial solution.\n",
    "    objective : callable\n",
    "        Objective function of the following signature:\n",
    "        (solution: ndarray of shape (n_cities,)) -> float.\n",
    "    sample : callable\n",
    "        A function to sample a neighbouring solution.\n",
    "        This should have the following signature:\n",
    "        (solution: ndarray of shape (n_cities,))\n",
    "        -> ndarray of shape (n_cities,).\n",
    "    n_epochs : int\n",
    "        Number of epochs\n",
    "    temperature : callable\n",
    "        A function to compute the temperature.\n",
    "        This should have the following signature:\n",
    "        (epoch: int) -> float.\n",
    "\n",
    "    Returns\n",
    "    -------\n",
    "    objective : float\n",
    "        The objective value of the best solution found.\n",
    "    solution : ndarray\n",
    "        1D array of shape (n_cities,) with `int` dtype representing\n",
    "        the best solution found.\n",
    "    objective_list : list of float\n",
    "        The objective values of the iterates\n",
    "    \"\"\"\n",
    "    current_solution = initial_solution.copy()\n",
    "    current_best_objective = objective(current_solution)\n",
    "    best_solution = current_solution.copy()\n",
    "    best_objective = current_best_objective\n",
    "    objective_list = [current_best_objective]\n",
    "\n",
    "    for epoch in range(n_epochs):\n",
    "        neighbour_solution = sample(current_solution)\n",
    "        neighbour_objective = objective(neighbour_solution)\n",
    "\n",
    "        if neighbour_objective < current_best_objective:\n",
    "            current_solution = neighbour_solution\n",
    "            current_best_objective = neighbour_objective\n",
    "\n",
    "            if neighbour_objective < best_objective:\n",
    "                best_solution = neighbour_solution\n",
    "                best_objective = neighbour_objective\n",
    "        else:\n",
    "            delta = neighbour_objective - current_best_objective\n",
    "            t = temperature(epoch)\n",
    "            p_accept = np.exp(-delta / t)\n",
    "            if np.random.rand() < p_accept:\n",
    "                current_solution = neighbour_solution\n",
    "\n",
    "        objective_list.append(current_best_objective)\n",
    "\n",
    "    return best_objective, best_solution, objective_list\n"
   ]
  },
  {
   "cell_type": "code",
   "execution_count": 127,
   "metadata": {},
   "outputs": [
    {
     "ename": "NameError",
     "evalue": "name 'objective_function' is not defined",
     "output_type": "error",
     "traceback": [
      "\u001b[1;31m---------------------------------------------------------------------------\u001b[0m",
      "\u001b[1;31mNameError\u001b[0m                                 Traceback (most recent call last)",
      "\u001b[1;32m<ipython-input-127-9dc4d6214d75>\u001b[0m in \u001b[0;36m<module>\u001b[1;34m\u001b[0m\n\u001b[0;32m     10\u001b[0m objective, solution, objective_list = run_simulated_annealing(\n\u001b[0;32m     11\u001b[0m     \u001b[0minitial_solution\u001b[0m\u001b[1;33m,\u001b[0m\u001b[1;33m\u001b[0m\u001b[1;33m\u001b[0m\u001b[0m\n\u001b[1;32m---> 12\u001b[1;33m     \u001b[0mobjective_function\u001b[0m\u001b[1;33m,\u001b[0m\u001b[1;33m\u001b[0m\u001b[1;33m\u001b[0m\u001b[0m\n\u001b[0m\u001b[0;32m     13\u001b[0m     \u001b[0msample_neighbour\u001b[0m\u001b[1;33m,\u001b[0m\u001b[1;33m\u001b[0m\u001b[1;33m\u001b[0m\u001b[0m\n\u001b[0;32m     14\u001b[0m     \u001b[0mn_epochs\u001b[0m\u001b[1;33m=\u001b[0m\u001b[1;36m20\u001b[0m\u001b[1;33m,\u001b[0m\u001b[1;33m\u001b[0m\u001b[1;33m\u001b[0m\u001b[0m\n",
      "\u001b[1;31mNameError\u001b[0m: name 'objective_function' is not defined"
     ]
    }
   ],
   "source": [
    "import numpy as np\n",
    "import matplotlib.pyplot as plt\n",
    "\n",
    "# Load the distance matrix from file\n",
    "distances = np.load('distances.npy')\n",
    "\n",
    "# Define the objective function\n",
    "\n",
    "# Run simulated annealing and get the objective values\n",
    "objective, solution, objective_list = run_simulated_annealing(\n",
    "    initial_solution,\n",
    "    objective,\n",
    "    sample_neighbour,\n",
    "    n_epochs=20,\n",
    "    temperature=compute_temperature,\n",
    ")\n",
    "\n",
    "# Create a line plot of the objective values\n",
    "plt.plot(objective_list)\n",
    "plt.xlabel('Iteration')\n",
    "plt.ylabel('Objective Value')\n",
    "plt.title('Simulated Annealing')\n",
    "plt.show()"
   ]
  },
  {
   "cell_type": "code",
   "execution_count": 30,
   "metadata": {},
   "outputs": [],
   "source": [
    "import collections\n",
    "\n",
    "def run_simulated_annealing(\n",
    "    initial_solution,\n",
    "    objective,\n",
    "    sample,\n",
    "    n_epochs,\n",
    "    temperature,\n",
    "):\n",
    "    \"\"\"Run simulated annealing\n",
    "\n",
    "    Parameters\n",
    "    ----------\n",
    "    initial_solution : ndarray\n",
    "        1D array of shape (n_cities,) with `int` dtype representing\n",
    "        the initial solution.\n",
    "    objective : callable\n",
    "        Objective function of the following signature:\n",
    "        (solution: ndarray of shape (n_cities,)) -> float.\n",
    "    sample : callable\n",
    "        A function to sample a neighbouring solution.\n",
    "        This should have the following signature:\n",
    "        (solution: ndarray of shape (n_cities,))\n",
    "        -> ndarray of shape (n_cities,).\n",
    "    n_epochs : int\n",
    "        Number of epochs\n",
    "    temperature : callable\n",
    "        A function to compute the temperature.\n",
    "        This should have the following signature:\n",
    "        (epoch: int) -> float.\n",
    "\n",
    "    Returns\n",
    "    -------\n",
    "    objective : float\n",
    "        The objective value of the best solution found.\n",
    "    solution : ndarray\n",
    "        1D array of shape (n_cities,) with `int` dtype representing\n",
    "        the best solution found.\n",
    "    objective_list : list of float\n",
    "        The objective values of the iterates\n",
    "    \"\"\"\n",
    "    best_solution = initial_solution.copy()  # Store the best solution on this variable.\n",
    "    best_objective = objective(initial_solution)  # Store the obj. value of `best_solution` on this.\n",
    "    objective_list = [best_objective]  # List to store the objective values of the iterate.\n",
    "\n",
    "    for epoch in range(n_epochs):\n",
    "        current_solution = sample(best_solution)\n",
    "        current_objective = objective(current_solution)\n",
    "        temperature_val = temperature(epoch)\n",
    "        delta = current_objective - best_objective\n",
    "\n",
    "        if delta < 0:\n",
    "            best_solution = current_solution.copy()\n",
    "            best_objective = current_objective\n",
    "        elif np.exp(-delta / temperature_val) > np.random.rand():\n",
    "            best_solution = current_solution.copy()\n",
    "\n",
    "        objective_list.append(best_objective)\n",
    "\n",
    "    return SolverResult(best_objective, best_solution, objective_list)\n",
    "\n",
    "\n",
    "SolverResult = collections.namedtuple(\n",
    "    \"SolverResult\", \"objective solution objective_list\"\n",
    ")"
   ]
  },
  {
   "cell_type": "code",
   "execution_count": null,
   "metadata": {},
   "outputs": [],
   "source": [
    "\n",
    "\n",
    "def main():\n",
    "    \"\"\"Run the main routine of this script\"\"\"\n",
    "    distance_matrix_file_path = \"distances.npy\"\n",
    "\n",
    "    with open(distance_matrix_file_path, \"rb\") as f:\n",
    "        distances = np.load(f)\n",
    "\n",
    "    # Run the greedy heuristic and obtain a solution.\n",
    "    initial_solution = run_greedy_heuristic(distances)\n",
    "\n",
    "    # Test the output.\n",
    "    shape = (len(distances),)\n",
    "\n",
    "    np.testing.assert_equal(type(initial_solution), np.ndarray)\n",
    "    np.testing.assert_equal(initial_solution.shape, shape)\n",
    "\n",
    "    # Test output of `sample_two_opt` as well.\n",
    "\n",
    "    sampled_solution = sample_two_opt(initial_solution)\n",
    "\n",
    "    np.testing.assert_equal(type(sampled_solution), np.ndarray)\n",
    "    np.testing.assert_equal(sampled_solution.shape, shape)\n",
    "\n",
    "    # Run simulated annealing and plot the result.\n",
    "    n_epochs = 5000\n",
    "    temperature = lambda epoch: 100 / np.log(epoch + 2)\n",
    "    objective = lambda solution: compute_total_distance(solution, distances)\n",
    "\n",
    "    objective_list = []\n",
    "    for i in range(20):\n",
    "        result = run_simulated_annealing(\n",
    "            initial_solution,\n",
    "            objective,\n",
    "            sample_two_opt,\n",
    "            n_epochs,\n",
    "            temperature,\n",
    "        )\n",
    "        objective_list.append(result.objective)\n",
    "\n",
    "    # Plot the objective values of the iterates.\n",
    "    fig, ax = plt.subplots()\n",
    "    ax.plot(object)\n"
   ]
  },
  {
   "cell_type": "code",
   "execution_count": 32,
   "metadata": {},
   "outputs": [
    {
     "ename": "AttributeError",
     "evalue": "module 'matplotlib' has no attribute 'subplots'",
     "output_type": "error",
     "traceback": [
      "\u001b[1;31m---------------------------------------------------------------------------\u001b[0m",
      "\u001b[1;31mAttributeError\u001b[0m                            Traceback (most recent call last)",
      "\u001b[1;32m<ipython-input-32-6bb2210c32cf>\u001b[0m in \u001b[0;36m<module>\u001b[1;34m\u001b[0m\n\u001b[0;32m     41\u001b[0m \u001b[1;33m\u001b[0m\u001b[0m\n\u001b[0;32m     42\u001b[0m \u001b[1;31m# Plot the objective values of the iterates\u001b[0m\u001b[1;33m\u001b[0m\u001b[1;33m\u001b[0m\u001b[1;33m\u001b[0m\u001b[0m\n\u001b[1;32m---> 43\u001b[1;33m \u001b[0mfig\u001b[0m\u001b[1;33m,\u001b[0m \u001b[0max\u001b[0m \u001b[1;33m=\u001b[0m \u001b[0mplt\u001b[0m\u001b[1;33m.\u001b[0m\u001b[0msubplots\u001b[0m\u001b[1;33m(\u001b[0m\u001b[0mfigsize\u001b[0m\u001b[1;33m=\u001b[0m\u001b[1;33m(\u001b[0m\u001b[1;36m8\u001b[0m\u001b[1;33m,\u001b[0m \u001b[1;36m6\u001b[0m\u001b[1;33m)\u001b[0m\u001b[1;33m)\u001b[0m\u001b[1;33m\u001b[0m\u001b[1;33m\u001b[0m\u001b[0m\n\u001b[0m\u001b[0;32m     44\u001b[0m \u001b[1;32mfor\u001b[0m \u001b[0mi\u001b[0m\u001b[1;33m,\u001b[0m \u001b[0mobjective_list\u001b[0m \u001b[1;32min\u001b[0m \u001b[0menumerate\u001b[0m\u001b[1;33m(\u001b[0m\u001b[0mobjective_lists\u001b[0m\u001b[1;33m)\u001b[0m\u001b[1;33m:\u001b[0m\u001b[1;33m\u001b[0m\u001b[1;33m\u001b[0m\u001b[0m\n\u001b[0;32m     45\u001b[0m     \u001b[0max\u001b[0m\u001b[1;33m.\u001b[0m\u001b[0mplot\u001b[0m\u001b[1;33m(\u001b[0m\u001b[0mobjective_list\u001b[0m\u001b[1;33m)\u001b[0m\u001b[1;33m\u001b[0m\u001b[1;33m\u001b[0m\u001b[0m\n",
      "\u001b[1;31mAttributeError\u001b[0m: module 'matplotlib' has no attribute 'subplots'"
     ]
    }
   ],
   "source": [
    "\n",
    "# Load the distance matrix from the file\n",
    "distances = np.load(\"distances.npy\")\n",
    "\n",
    "\n",
    "# Define the objective function for TSP\n",
    "def tsp_objective(solution):\n",
    "    return sum([distances[solution[i], solution[i+1]] for i in range(len(solution)-1)]) + distances[solution[-1], solution[0]]\n",
    "\n",
    "\n",
    "# Define the sample function to generate neighbouring solutions\n",
    "def tsp_sample(solution):\n",
    "    # Swap two cities randomly\n",
    "    idx1, idx2 = np.random.choice(len(solution), 2, replace=False)\n",
    "    new_solution = solution.copy()\n",
    "    new_solution[idx1], new_solution[idx2] = new_solution[idx2], new_solution[idx1]\n",
    "    return new_solution\n",
    "\n",
    "\n",
    "# Define the temperature function\n",
    "def tsp_temperature(epoch):\n",
    "    return 1 / np.log(epoch + 2)\n",
    "\n",
    "\n",
    "# Set the number of epochs and the initial solution\n",
    "n_epochs = 10000\n",
    "initial_solution = np.arange(len(distances))\n",
    "\n",
    "\n",
    "# Run simulated annealing 20 times and store the objective values of the iterates\n",
    "objective_lists = []\n",
    "for i in range(20):\n",
    "    result = run_simulated_annealing(\n",
    "        initial_solution,\n",
    "        tsp_objective,\n",
    "        tsp_sample,\n",
    "        n_epochs,\n",
    "        tsp_temperature,\n",
    "    )\n",
    "    objective_lists.append(result.objective_list)\n",
    "\n",
    "\n",
    "# Plot the objective values of the iterates\n",
    "fig, ax = plt.subplots(figsize=(8, 6))\n",
    "for i, objective_list in enumerate(objective_lists):\n",
    "    ax.plot(objective_list)\n"
   ]
  },
  {
   "cell_type": "code",
   "execution_count": null,
   "metadata": {},
   "outputs": [],
   "source": []
  },
  {
   "cell_type": "code",
   "execution_count": null,
   "metadata": {},
   "outputs": [],
   "source": []
  },
  {
   "cell_type": "code",
   "execution_count": null,
   "metadata": {},
   "outputs": [],
   "source": []
  },
  {
   "cell_type": "code",
   "execution_count": null,
   "metadata": {},
   "outputs": [],
   "source": []
  }
 ],
 "metadata": {
  "kernelspec": {
   "display_name": "base",
   "language": "python",
   "name": "python3"
  },
  "language_info": {
   "codemirror_mode": {
    "name": "ipython",
    "version": 3
   },
   "file_extension": ".py",
   "mimetype": "text/x-python",
   "name": "python",
   "nbconvert_exporter": "python",
   "pygments_lexer": "ipython3",
   "version": "3.8.5"
  },
  "orig_nbformat": 4
 },
 "nbformat": 4,
 "nbformat_minor": 2
}
