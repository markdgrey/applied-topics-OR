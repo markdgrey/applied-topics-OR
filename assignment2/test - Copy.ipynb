{
 "cells": [
  {
   "cell_type": "code",
   "execution_count": 1,
   "metadata": {},
   "outputs": [],
   "source": [
    "import os\n",
    "\n",
    "#import matplotlib.pyplot as plt\n",
    "\n",
    "import numpy as np"
   ]
  },
  {
   "attachments": {},
   "cell_type": "markdown",
   "metadata": {},
   "source": [
    "Exercise 1 "
   ]
  },
  {
   "cell_type": "code",
   "execution_count": 2,
   "metadata": {},
   "outputs": [],
   "source": [
    "\n",
    "def compute_total_cost(solution, distances):\n",
    "    \"\"\"Compute the total cost of a given solution\n",
    "\n",
    "    Examples\n",
    "    --------\n",
    "    >>> solution = np.array([0, 1, 2, 3, 4, 5])\n",
    "    >>> distances = np.array([\n",
    "    ...    [0, 5, 3, 4, 2, 3],\n",
    "    ...    [5, 0, 2, 8, 3, 9],\n",
    "    ...    [3, 2, 0, 2, 5, 8],\n",
    "    ...    [4, 8, 2, 0, 6, 9],\n",
    "    ...    [2, 3, 5, 6, 0, 1],\n",
    "    ...    [3, 9, 8, 9, 1, 0],\n",
    "    ... ], dtype=float)\n",
    "    >>> compute_total_cost(solution, distances)\n",
    "    19.0\n",
    "\n",
    "    Parameters\n",
    "    ----------\n",
    "    solution : ndarray\n",
    "        1D array of shape (n_cities,) with `int` dtype representing\n",
    "        the solution whose length is to be computed.\n",
    "    distances : ndarray\n",
    "        2D array of shape (n_cities, n_cities) with `float` dtype\n",
    "        representing the distance matrix.\n",
    "\n",
    "    Returns\n",
    "    -------\n",
    "    length : float\n",
    "    \"\"\"\n",
    "    # Question 1\n",
    "    n_cities = solution.shape[0]\n",
    "    cost = 0.0\n",
    "    for i in range(n_cities):\n",
    "        j = (i + 1) % n_cities\n",
    "        cost += distances[solution[i], solution[j]]\n",
    "    return cost"
   ]
  },
  {
   "cell_type": "code",
   "execution_count": 3,
   "metadata": {},
   "outputs": [
    {
     "data": {
      "text/plain": [
       "19.0"
      ]
     },
     "execution_count": 3,
     "metadata": {},
     "output_type": "execute_result"
    }
   ],
   "source": [
    "#test\n",
    "solution = np.array([0, 1, 2, 3, 4, 5])\n",
    "distances = np.array([[0, 5, 3, 4, 2, 3],\n",
    "                      [5, 0, 2, 8, 3, 9],\n",
    "                      [3, 2, 0, 2, 5, 8],\n",
    "                      [4, 8, 2, 0, 6, 9],\n",
    "                      [2, 3, 5, 6, 0, 1],\n",
    "                      [3, 9, 8, 9, 1, 0],\n",
    "                      ], dtype=float)\n",
    "compute_total_cost(solution, distances)"
   ]
  },
  {
   "attachments": {},
   "cell_type": "markdown",
   "metadata": {},
   "source": [
    "Exercise 2"
   ]
  },
  {
   "cell_type": "code",
   "execution_count": 1,
   "metadata": {},
   "outputs": [],
   "source": [
    "\n",
    "def run_greedy_heuristic(distances):\n",
    "    \"\"\"Run a greedy heuristic for TSP\n",
    "\n",
    "    This runs a greedy heuristic for TSP and return a feasible solution.\n",
    "    This starts at city 0 and creates a soltuion by finding the shortest\n",
    "    cities greedily.\n",
    "\n",
    "    Examples\n",
    "    --------\n",
    "    >>> distances = np.array([\n",
    "    ...    [0, 5, 3, 4, 2, 3],\n",
    "    ...    [5, 0, 2, 8, 3, 9],\n",
    "    ...    [3, 2, 0, 2, 5, 8],\n",
    "    ...    [4, 8, 2, 0, 6, 9],\n",
    "    ...    [2, 3, 5, 6, 0, 1],\n",
    "    ...    [3, 9, 8, 9, 1, 0],\n",
    "    ... ], dtype=float)\n",
    "    >>> run_greedy_heuristic(distances)\n",
    "    array([0, 4, 5, 2, 1, 3])\n",
    "    >>> compute_total_cost(run_greedy_heuristic(distances), distances)\n",
    "    25.0\n",
    "\n",
    "    Parameters\n",
    "    ----------\n",
    "    distances : ndarray\n",
    "        2D array of shape (n_cities, n_cities) with `float` dtype\n",
    "        representing the distance matrix.\n",
    "\n",
    "    Returns\n",
    "    -------\n",
    "    solution : ndarray\n",
    "        1D array of shape (n_cities,) with `int` dtype representing\n",
    "        the solution obtained by the greedy heuristic.\n",
    "    \"\"\"\n",
    "\n",
    "    c = 0\n",
    "    x = c.sort()"
   ]
  },
  {
   "cell_type": "code",
   "execution_count": null,
   "metadata": {},
   "outputs": [],
   "source": [
    "    \n",
    "distances = np.array([\n",
    "    [0, 5, 3, 4, 2, 3],\n",
    "    [5, 0, 2, 8, 3, 9],\n",
    "    [3, 2, 0, 2, 5, 8],\n",
    "    [4, 8, 2, 0, 6, 9],\n",
    "    [2, 3, 5, 6, 0, 1],\n",
    "    [3, 9, 8, 9, 1, 0],], dtype=float)\n",
    "\n",
    "    run_greedy_heuristic(distances)\n",
    "    array([0, 4, 5, 2, 1, 3])\n",
    "    compute_total_cost(run_greedy_heuristic(distances), distances)\n",
    "    #25.0"
   ]
  },
  {
   "attachments": {},
   "cell_type": "markdown",
   "metadata": {},
   "source": [
    "Exercise 3"
   ]
  },
  {
   "cell_type": "code",
   "execution_count": 21,
   "metadata": {},
   "outputs": [
    {
     "name": "stdout",
     "output_type": "stream",
     "text": [
      "[0 1 3 2]\n"
     ]
    }
   ],
   "source": [
    "import random\n",
    "\n",
    "\n",
    "def sample_two_opt(solution):\n",
    "    \"\"\"Return a neighbour of a given solution based on two-opt\n",
    "\n",
    "    This returns a neighbouring solution.\n",
    "\n",
    "    Examples\n",
    "    --------\n",
    "    >>> solution = np.array([0, 1, 2, 3])\n",
    "    >>> sample_two_opt(solution)  # doctest: +SKIP\n",
    "    array([0, 2, 1, 3])\n",
    "\n",
    "    Parameters\n",
    "    ----------\n",
    "    solution : ndarray\n",
    "        1D array of shape (n_cities,) with `int` dtype representing\n",
    "        the current solution.\n",
    "\n",
    "    Returns\n",
    "    -------\n",
    "    new_solution : ndarray\n",
    "        1D array of shape (n_cities,) with `int` dtype representing\n",
    "        the sampled solution.\n",
    "    \"\"\"\n",
    "    n_cities = len(solution)\n",
    "    i, j = sorted(random.sample(range(n_cities), 2))\n",
    "    new_solution = np.concatenate((solution[:i], solution[i:j+1][::-1], solution[j+1:]))\n",
    "    return new_solution\n",
    "\n",
    "solution = np.array([0, 1, 2, 3])\n",
    "\n",
    "\n",
    "print(sample_two_opt(solution))"
   ]
  },
  {
   "cell_type": "code",
   "execution_count": null,
   "metadata": {},
   "outputs": [],
   "source": [
    "import random\n",
    "\n",
    "\n",
    "def sample_two_opt(solution):\n",
    "    \"\"\"Return a neighbour of a given solution based on two-opt\n",
    "\n",
    "    This returns a neighbouring solution.\n",
    "\n",
    "    Examples\n",
    "    --------\n",
    "    >>> solution = np.array([0, 1, 2, 3])\n",
    "    >>> sample_two_opt(solution)  # doctest: +SKIP\n",
    "    array([0, 2, 1, 3])\n",
    "\n",
    "    Parameters\n",
    "    ----------\n",
    "    solution : ndarray\n",
    "        1D array of shape (n_cities,) with `int` dtype representing\n",
    "        the current solution.\n",
    "\n",
    "    Returns\n",
    "    -------\n",
    "    new_solution : ndarray\n",
    "        1D array of shape (n_cities,) with `int` dtype representing\n",
    "        the sampled solution.\n",
    "    \"\"\"\n",
    "    n_cities = len(solution)\n",
    "    i, j = sorted(random.sample(range(n_cities), 2))\n",
    "    new_solution = np.concatenate((solution[:i], solution[i:j+1][::-1], solution[j+1:]))\n",
    "    return new_solution\n",
    "\n",
    "solution = np.array([0, 1, 2, 3])\n",
    "\n",
    "\n",
    "print(sample_two_opt(solution))"
   ]
  },
  {
   "cell_type": "code",
   "execution_count": null,
   "metadata": {},
   "outputs": [],
   "source": [
    "def two_opt(solution, dist_matrix):\n",
    "    n_cities = len(solution)\n",
    "    improve = True\n",
    "    best_distance = np.inf\n",
    "\n",
    "    while improve:\n",
    "        improve = False\n",
    "        for i in range(1, n_cities - 1):\n",
    "            for j in range(i + 1, n_cities):\n",
    "                if j - i == 1:\n",
    "                    continue  # Ignore adjacent edges\n",
    "                new_solution = solution.copy()\n",
    "                new_solution[i:j] = solution[j - 1:i - 1:-1]  # Reverse subsequence\n",
    "                new_distance = calculate_distance(new_solution, dist_matrix)\n",
    "                if new_distance < best_distance:\n",
    "                    solution = new_solution\n",
    "                    best_distance = new_distance\n",
    "                    improve = True\n",
    "        if improve:\n",
    "            print(f\"Improved distance: {best_distance:.2f}\")\n",
    "    return solution, best_distance"
   ]
  }
 ],
 "metadata": {
  "kernelspec": {
   "display_name": "Xpress",
   "language": "python",
   "name": "python3"
  },
  "language_info": {
   "codemirror_mode": {
    "name": "ipython",
    "version": 3
   },
   "file_extension": ".py",
   "mimetype": "text/x-python",
   "name": "python",
   "nbconvert_exporter": "python",
   "pygments_lexer": "ipython3",
   "version": "3.9.16"
  },
  "orig_nbformat": 4,
  "vscode": {
   "interpreter": {
    "hash": "cccdf50b84ffb2bebb1c2c86403845785bc83706824bcfff4ea1c9e2554ab21c"
   }
  }
 },
 "nbformat": 4,
 "nbformat_minor": 2
}
